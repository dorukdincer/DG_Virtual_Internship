{
 "cells": [
  {
   "cell_type": "code",
   "execution_count": null,
   "id": "edfe0450-44a5-4753-9feb-27b2dde32bd9",
   "metadata": {},
   "outputs": [],
   "source": [
    "## EDA for G2M insight for Cab Investment firm"
   ]
  },
  {
   "cell_type": "code",
   "execution_count": 17,
   "id": "3e465784-797c-47ee-ab38-fb8ebcf65158",
   "metadata": {},
   "outputs": [],
   "source": [
    "import math\n",
    "import numpy as np\n",
    "import pandas as pd\n",
    "import seaborn as sns\n",
    "from scipy import stats\n",
    "import matplotlib.pyplot as plt"
   ]
  },
  {
   "cell_type": "code",
   "execution_count": 18,
   "id": "b78f5bf5-5642-4b25-ab8a-214920dac8f8",
   "metadata": {},
   "outputs": [],
   "source": [
    "transaction_id = pd.read_csv(\"Transaction_ID.csv\")\n",
    "customer_id = pd.read_csv(\"Customer_ID.csv\")\n",
    "city_data = pd.read_csv(\"City.csv\")\n",
    "cab_data = pd.read_csv(\"Cab_Data.csv\")\n"
   ]
  },
  {
   "cell_type": "code",
   "execution_count": null,
   "id": "12f33479-a052-4c4e-a714-d58abe247522",
   "metadata": {},
   "outputs": [],
   "source": []
  }
 ],
 "metadata": {
  "kernelspec": {
   "display_name": "Python 3 (ipykernel)",
   "language": "python",
   "name": "python3"
  },
  "language_info": {
   "codemirror_mode": {
    "name": "ipython",
    "version": 3
   },
   "file_extension": ".py",
   "mimetype": "text/x-python",
   "name": "python",
   "nbconvert_exporter": "python",
   "pygments_lexer": "ipython3",
   "version": "3.12.0"
  }
 },
 "nbformat": 4,
 "nbformat_minor": 5
}
